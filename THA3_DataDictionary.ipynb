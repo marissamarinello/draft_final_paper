{
  "nbformat": 4,
  "nbformat_minor": 0,
  "metadata": {
    "colab": {
      "name": "THA3_DataDictionary.ipynb",
      "version": "0.3.2",
      "provenance": []
    },
    "kernelspec": {
      "name": "python3",
      "display_name": "Python 3"
    }
  },
  "cells": [
    {
      "metadata": {
        "id": "fuN5-mpAjyUp",
        "colab_type": "text"
      },
      "cell_type": "markdown",
      "source": [
        "##Data Dictionary\n",
        "\n",
        "###Final Syrian Statistics Table:\n",
        "This table identifies the total number of Syrian refugees per year, per country, and total number of Syrian asyless per year per country. \n",
        "\n",
        "**Year:** \n",
        ">This column identifies the year people entered x country. There are multiple values for some years because refugees and asylum seekers are counted in spearate rows. \n",
        "\n",
        "**Country/territory of asylum/residence:**\n",
        ">This column identifies the country to which Syrian refugees and asylees went\n",
        "\n",
        "**Population type:**\n",
        "> This column identifies if the row is for refugees or asylum seekers.\n",
        "\n",
        "**Value:**\n",
        "> This column identifies the population count of individuals.\n",
        "\n",
        "**year_type:**\n",
        "> This column was created to combine the year and the type of entry (refugee or aslyee) and was used to merge the data sets on one another."
      ]
    },
    {
      "metadata": {
        "id": "FlYvM9ftmOEj",
        "colab_type": "text"
      },
      "cell_type": "markdown",
      "source": [
        "### Final Syrian Totals Table:\n",
        "This table shows the sumed total of Syrian refugees + asylees per year per country. \n",
        "\n",
        "**Year:** \n",
        ">This is the year of entry. \n",
        "\n",
        "**Value:**\n",
        ">This identfies the population count of individauls coming to Turkey.\n",
        "\n",
        "**Country**: \n",
        ">Turkey\n",
        "\n",
        "**Value_x:** \n",
        ">This identfies the population count of individauls coming to Jordan.\n",
        "\n",
        "**Country_x**: \n",
        ">Jordan\n",
        "\n",
        "**Value_y:** \n",
        ">This identfies the population count of individauls coming to Lebanon.\n",
        "\n",
        "**Country_y:** \n",
        ">Lebanon\n"
      ]
    },
    {
      "metadata": {
        "id": "ganmcFncjSG7",
        "colab_type": "code",
        "colab": {}
      },
      "cell_type": "code",
      "source": [
        ""
      ],
      "execution_count": 0,
      "outputs": []
    }
  ]
}